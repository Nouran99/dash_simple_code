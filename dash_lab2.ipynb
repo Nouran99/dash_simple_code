{
 "cells": [
  {
   "cell_type": "code",
   "execution_count": 1,
   "metadata": {},
   "outputs": [],
   "source": [
    "from dash import html , dcc , Dash\n",
    "import pandas as pd\n",
    "import plotly.express as px\n",
    "# from jupyter_dash import JupyterDash\n",
    "app =Dash(external_stylesheets=[\"https://codepen.io/chriddyp/pen/bWLwgP.css\"])\n",
    "# app = JupyterDash()"
   ]
  },
  {
   "cell_type": "code",
   "execution_count": 2,
   "metadata": {},
   "outputs": [
    {
     "data": {
      "text/html": [
       "<div>\n",
       "<style scoped>\n",
       "    .dataframe tbody tr th:only-of-type {\n",
       "        vertical-align: middle;\n",
       "    }\n",
       "\n",
       "    .dataframe tbody tr th {\n",
       "        vertical-align: top;\n",
       "    }\n",
       "\n",
       "    .dataframe thead th {\n",
       "        text-align: right;\n",
       "    }\n",
       "</style>\n",
       "<table border=\"1\" class=\"dataframe\">\n",
       "  <thead>\n",
       "    <tr style=\"text-align: right;\">\n",
       "      <th></th>\n",
       "      <th>country</th>\n",
       "      <th>continent</th>\n",
       "      <th>year</th>\n",
       "      <th>lifeExp</th>\n",
       "      <th>pop</th>\n",
       "      <th>gdpPercap</th>\n",
       "      <th>iso_alpha</th>\n",
       "      <th>iso_num</th>\n",
       "    </tr>\n",
       "  </thead>\n",
       "  <tbody>\n",
       "    <tr>\n",
       "      <th>0</th>\n",
       "      <td>Afghanistan</td>\n",
       "      <td>Asia</td>\n",
       "      <td>1952</td>\n",
       "      <td>28.801</td>\n",
       "      <td>8425333</td>\n",
       "      <td>779.445314</td>\n",
       "      <td>AFG</td>\n",
       "      <td>4</td>\n",
       "    </tr>\n",
       "    <tr>\n",
       "      <th>1</th>\n",
       "      <td>Afghanistan</td>\n",
       "      <td>Asia</td>\n",
       "      <td>1957</td>\n",
       "      <td>30.332</td>\n",
       "      <td>9240934</td>\n",
       "      <td>820.853030</td>\n",
       "      <td>AFG</td>\n",
       "      <td>4</td>\n",
       "    </tr>\n",
       "    <tr>\n",
       "      <th>2</th>\n",
       "      <td>Afghanistan</td>\n",
       "      <td>Asia</td>\n",
       "      <td>1962</td>\n",
       "      <td>31.997</td>\n",
       "      <td>10267083</td>\n",
       "      <td>853.100710</td>\n",
       "      <td>AFG</td>\n",
       "      <td>4</td>\n",
       "    </tr>\n",
       "    <tr>\n",
       "      <th>3</th>\n",
       "      <td>Afghanistan</td>\n",
       "      <td>Asia</td>\n",
       "      <td>1967</td>\n",
       "      <td>34.020</td>\n",
       "      <td>11537966</td>\n",
       "      <td>836.197138</td>\n",
       "      <td>AFG</td>\n",
       "      <td>4</td>\n",
       "    </tr>\n",
       "    <tr>\n",
       "      <th>4</th>\n",
       "      <td>Afghanistan</td>\n",
       "      <td>Asia</td>\n",
       "      <td>1972</td>\n",
       "      <td>36.088</td>\n",
       "      <td>13079460</td>\n",
       "      <td>739.981106</td>\n",
       "      <td>AFG</td>\n",
       "      <td>4</td>\n",
       "    </tr>\n",
       "  </tbody>\n",
       "</table>\n",
       "</div>"
      ],
      "text/plain": [
       "       country continent  year  lifeExp       pop   gdpPercap iso_alpha  \\\n",
       "0  Afghanistan      Asia  1952   28.801   8425333  779.445314       AFG   \n",
       "1  Afghanistan      Asia  1957   30.332   9240934  820.853030       AFG   \n",
       "2  Afghanistan      Asia  1962   31.997  10267083  853.100710       AFG   \n",
       "3  Afghanistan      Asia  1967   34.020  11537966  836.197138       AFG   \n",
       "4  Afghanistan      Asia  1972   36.088  13079460  739.981106       AFG   \n",
       "\n",
       "   iso_num  \n",
       "0        4  \n",
       "1        4  \n",
       "2        4  \n",
       "3        4  \n",
       "4        4  "
      ]
     },
     "execution_count": 2,
     "metadata": {},
     "output_type": "execute_result"
    }
   ],
   "source": [
    "from dash.dependencies import Input , Output ,State\n",
    "df = px.data.gapminder()\n",
    "df.head()"
   ]
  },
  {
   "cell_type": "code",
   "execution_count": 3,
   "metadata": {},
   "outputs": [],
   "source": [
    "my_years = df[\"year\"].unique()\n",
    "my_cont = df[\"continent\"].unique()"
   ]
  },
  {
   "cell_type": "code",
   "execution_count": 4,
   "metadata": {},
   "outputs": [],
   "source": [
    "app.layout=html.Div(children= [\n",
    "    html.Div(\"my_div\"),\n",
    "    dcc.Graph(id=\"my_graph\"),\n",
    "    dcc.Graph(id=\"my_graph2\"),\n",
    "    dcc.Slider(my_years[0], my_years[-1],id = \"my_slider\" ,\n",
    "        marks={str(i): str(i) for i in my_years} ),\n",
    "    dcc.Dropdown(my_cont,id=\"my_contnant\" ),\n",
    "    html.Button('Submit', id='button-example')\n",
    "])"
   ]
  },
  {
   "cell_type": "code",
   "execution_count": 5,
   "metadata": {},
   "outputs": [],
   "source": [
    "@app.callback(\n",
    "    Output (component_id=\"my_graph\", component_property= \"figure\"),\n",
    "    Output (component_id=\"my_graph2\", component_property= \"figure\"),\n",
    "    Input (component_id=\"my_slider\", component_property= \"value\"),\n",
    "    Input (component_id=\"my_contnant\", component_property= \"value\")\n",
    ")\n",
    "def update(slider_value,drop):\n",
    "    if drop == None:\n",
    "        fig2 =px.scatter(df[df[\"year\"]== slider_value], x=\"gdpPercap\",y=\"lifeExp\", hover_name=\"country\", color=\"continent\",size = \"pop\", size_max= 100)\n",
    "        fig =px.scatter(df[df[\"year\"]== slider_value], x=\"gdpPercap\",y=\"lifeExp\", hover_name=\"country\", color=\"continent\",size = \"pop\", size_max= 100)\n",
    "    else:\n",
    "        print(drop)\n",
    "        df_new =df[(df[\"year\"] == slider_value)& (df[\"continent\"]== drop)]\n",
    "        fig =px.scatter(df_new, x=\"gdpPercap\",y=\"lifeExp\", hover_name=\"country\", color=\"continent\",size = \"pop\", size_max= 100)\n",
    "        fig2 =px.scatter(df_new, x=\"gdpPercap\",y=\"lifeExp\", hover_name=\"country\", color=\"continent\",size = \"pop\", size_max= 100)\n",
    "\n",
    "    return fig,fig2"
   ]
  },
  {
   "cell_type": "code",
   "execution_count": null,
   "metadata": {},
   "outputs": [],
   "source": [
    "@app.callback(\n",
    "    Output (component_id=\"my_graph\", component_property= \"figure\"),\n",
    "    Output (component_id=\"my_graph2\", component_property= \"figure\"),\n",
    "    State (component_id=\"my_slider\", component_property= \"value\"),\n",
    "    Input (component_id=\"button-example\", component_property= \"n_click\"),\n",
    "    State (component_id=\"my_contnant\", component_property= \"value\")\n",
    ")\n",
    "def update(slider_value,n,drop):\n",
    "    if drop == None:\n",
    "        fig2 =px.scatter(df[df[\"year\"]== slider_value], x=\"gdpPercap\",y=\"lifeExp\", hover_name=\"country\", color=\"continent\",size = \"pop\", size_max= 100)\n",
    "        fig =px.scatter(df[df[\"year\"]== slider_value], x=\"gdpPercap\",y=\"lifeExp\", hover_name=\"country\", color=\"continent\",size = \"pop\", size_max= 100)\n",
    "    else:\n",
    "        df_new =df[(df[\"year\"] == slider_value)& (df[\"continent\"]== drop)]\n",
    "        fig =px.scatter(df_new, x=\"gdpPercap\",y=\"lifeExp\", hover_name=\"country\", color=\"continent\",size = \"pop\", size_max= 100)\n",
    "        fig2 =px.scatter(df_new, x=\"gdpPercap\",y=\"lifeExp\", hover_name=\"country\", color=\"continent\",size = \"pop\", size_max= 100)\n",
    "\n",
    "    return fig,fig2"
   ]
  },
  {
   "cell_type": "code",
   "execution_count": 6,
   "metadata": {},
   "outputs": [
    {
     "name": "stdout",
     "output_type": "stream",
     "text": [
      "Dash is running on http://127.0.0.1:8050/\n",
      "\n",
      " * Serving Flask app \"__main__\" (lazy loading)\n",
      " * Environment: production\n",
      "\u001b[31m   WARNING: This is a development server. Do not use it in a production deployment.\u001b[0m\n",
      "\u001b[2m   Use a production WSGI server instead.\u001b[0m\n",
      " * Debug mode: off\n"
     ]
    },
    {
     "name": "stderr",
     "output_type": "stream",
     "text": [
      " * Running on http://127.0.0.1:8050/ (Press CTRL+C to quit)\n",
      "127.0.0.1 - - [06/Feb/2023 14:37:01] \"GET / HTTP/1.1\" 200 -\n",
      "127.0.0.1 - - [06/Feb/2023 14:37:02] \"GET /_dash-dependencies HTTP/1.1\" 200 -\n",
      "127.0.0.1 - - [06/Feb/2023 14:37:02] \"GET /_dash-layout HTTP/1.1\" 200 -\n",
      "127.0.0.1 - - [06/Feb/2023 14:37:02] \"GET /_favicon.ico?v=2.8.1 HTTP/1.1\" 200 -\n",
      "127.0.0.1 - - [06/Feb/2023 14:37:02] \"GET /_dash-component-suites/dash/dcc/async-graph.js HTTP/1.1\" 200 -\n",
      "127.0.0.1 - - [06/Feb/2023 14:37:02] \"GET /_dash-component-suites/dash/dcc/async-slider.js HTTP/1.1\" 200 -\n",
      "127.0.0.1 - - [06/Feb/2023 14:37:02] \"GET /_dash-component-suites/dash/dcc/async-plotlyjs.js HTTP/1.1\" 200 -\n",
      "127.0.0.1 - - [06/Feb/2023 14:37:02] \"GET /_dash-component-suites/dash/dcc/async-dropdown.js HTTP/1.1\" 200 -\n",
      "127.0.0.1 - - [06/Feb/2023 14:37:03] \"POST /_dash-update-component HTTP/1.1\" 200 -\n",
      "127.0.0.1 - - [06/Feb/2023 14:37:11] \"POST /_dash-update-component HTTP/1.1\" 200 -\n",
      "127.0.0.1 - - [06/Feb/2023 14:37:21] \"POST /_dash-update-component HTTP/1.1\" 200 -\n"
     ]
    },
    {
     "name": "stdout",
     "output_type": "stream",
     "text": [
      "Americas\n"
     ]
    },
    {
     "name": "stderr",
     "output_type": "stream",
     "text": [
      "127.0.0.1 - - [06/Feb/2023 14:37:45] \"POST /_dash-update-component HTTP/1.1\" 200 -\n",
      "127.0.0.1 - - [06/Feb/2023 14:37:52] \"POST /_dash-update-component HTTP/1.1\" 200 -\n",
      "127.0.0.1 - - [06/Feb/2023 14:37:55] \"POST /_dash-update-component HTTP/1.1\" 200 -\n"
     ]
    }
   ],
   "source": [
    "app.run_server()"
   ]
  },
  {
   "cell_type": "code",
   "execution_count": null,
   "metadata": {},
   "outputs": [],
   "source": []
  }
 ],
 "metadata": {
  "kernelspec": {
   "display_name": "base",
   "language": "python",
   "name": "python3"
  },
  "language_info": {
   "codemirror_mode": {
    "name": "ipython",
    "version": 3
   },
   "file_extension": ".py",
   "mimetype": "text/x-python",
   "name": "python",
   "nbconvert_exporter": "python",
   "pygments_lexer": "ipython3",
   "version": "3.9.13"
  },
  "orig_nbformat": 4,
  "vscode": {
   "interpreter": {
    "hash": "a3440b8b0d77b37749875a084ed3933dc65d85e876557744a47141c1823e3788"
   }
  }
 },
 "nbformat": 4,
 "nbformat_minor": 2
}
